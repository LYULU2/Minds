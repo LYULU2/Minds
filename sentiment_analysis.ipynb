{
 "cells": [
  {
   "cell_type": "markdown",
   "metadata": {},
   "source": [
    "## News Scraper"
   ]
  },
  {
   "cell_type": "code",
   "execution_count": null,
   "metadata": {},
   "outputs": [],
   "source": [
    "import requests\n",
    "from bs4 import BeautifulSoup\n",
    "from selenium import webdriver\n",
    "from selenium.webdriver.common.by import By\n",
    "import string\n",
    "from textblob import TextBlob\n",
    "import plotly.express as px\n",
    "import pandas as pd\n",
    "import csv\n",
    "import json\n",
    "import time"
   ]
  },
  {
   "cell_type": "code",
   "execution_count": 17,
   "metadata": {},
   "outputs": [
    {
     "name": "stderr",
     "output_type": "stream",
     "text": [
      "/Users/luerlyu/opt/anaconda3/lib/python3.7/site-packages/ipykernel_launcher.py:14: DeprecationWarning: executable_path has been deprecated, please pass in a Service object\n",
      "  \n"
     ]
    }
   ],
   "source": [
    "start_time = time.time()\n",
    "option = webdriver.ChromeOptions()\n",
    "option.add_argument('--headless')\n",
    "option.add_argument('--no-sandbox')\n",
    "option.add_argument('--disable-dev-sh-usage')\n",
    "# Replace the path with your chromedriver location\n",
    "driver = webdriver.Chrome('PATH')\n",
    " \n",
    "driver.get('https://www.aljazeera.com/where/mozambique/')\n",
    "soup = BeautifulSoup(driver.page_source, 'html.parser') # Parsing content using beautifulsoup. Notice driver.page_source instead of page.content\n",
    " \n",
    "urls = soup.select(\".gc--type-post .u-clickable-card__link\")\n",
    "totalScrapedInfo = [] \n",
    "for url in urls:\n",
    "    driver.get('https://www.aljazeera.com' + url['href'])\n",
    "    title = driver.find_elements(by=By.CSS_SELECTOR, value=\".article-header h1\")\n",
    "    if not title: continue\n",
    "    contents = driver.find_elements(by=By.CSS_SELECTOR, value=\".wysiwyg p\")\n",
    "    date = driver.find_elements(by=By.CSS_SELECTOR, value=\".date-simple span\")\n",
    "    content = [c.text for c in contents if c!=' ']\n",
    "    content = \" \".join(content)\n",
    "    \n",
    "    scrapedInfo = {\n",
    "        \"title\": title[0].text,\n",
    "        \"content\": content,\n",
    "        \"time\": date[1].text\n",
    "    }\n",
    "    totalScrapedInfo.append(scrapedInfo)\n",
    "    if len(totalScrapedInfo)==10:\n",
    "        break\n",
    "    "
   ]
  },
  {
   "cell_type": "code",
   "execution_count": 10,
   "metadata": {},
   "outputs": [],
   "source": [
    "file = open('news.json', mode='w', encoding='utf-8')\n",
    "file.write(json.dumps(totalScrapedInfo))\n",
    " \n",
    "writer = csv.writer(open(\"news.csv\", 'w'))\n",
    "for movie in totalScrapedInfo:\n",
    "    writer.writerow(movie.values())"
   ]
  },
  {
   "cell_type": "code",
   "execution_count": 11,
   "metadata": {},
   "outputs": [],
   "source": [
    "news = pd.read_csv(\"news.csv\", names = ['title','content','time'])"
   ]
  },
  {
   "cell_type": "code",
   "execution_count": 12,
   "metadata": {},
   "outputs": [
    {
     "data": {
      "text/html": [
       "<div>\n",
       "<style scoped>\n",
       "    .dataframe tbody tr th:only-of-type {\n",
       "        vertical-align: middle;\n",
       "    }\n",
       "\n",
       "    .dataframe tbody tr th {\n",
       "        vertical-align: top;\n",
       "    }\n",
       "\n",
       "    .dataframe thead th {\n",
       "        text-align: right;\n",
       "    }\n",
       "</style>\n",
       "<table border=\"1\" class=\"dataframe\">\n",
       "  <thead>\n",
       "    <tr style=\"text-align: right;\">\n",
       "      <th></th>\n",
       "      <th>title</th>\n",
       "      <th>content</th>\n",
       "      <th>time</th>\n",
       "    </tr>\n",
       "  </thead>\n",
       "  <tbody>\n",
       "    <tr>\n",
       "      <td>0</td>\n",
       "      <td>Floods hit South Africa’s KwaZulu-Natal provin...</td>\n",
       "      <td>Heavy rains in South Africa have forced hundre...</td>\n",
       "      <td>23 May 2022</td>\n",
       "    </tr>\n",
       "    <tr>\n",
       "      <td>1</td>\n",
       "      <td>Mozambique: Cyclone Gombe death toll rises to 53</td>\n",
       "      <td>Tropical Cyclone Gombe has killed at least 53 ...</td>\n",
       "      <td>18 Mar 2022</td>\n",
       "    </tr>\n",
       "    <tr>\n",
       "      <td>2</td>\n",
       "      <td>Mozambique announces new prime minister after ...</td>\n",
       "      <td>Mozambique President Filipe Nyusi has appointe...</td>\n",
       "      <td>4 Mar 2022</td>\n",
       "    </tr>\n",
       "    <tr>\n",
       "      <td>3</td>\n",
       "      <td>Analysis: Can African gas replace Russian supp...</td>\n",
       "      <td>Lagos, Nigeria – On February 22, German Chance...</td>\n",
       "      <td>1 Mar 2022</td>\n",
       "    </tr>\n",
       "    <tr>\n",
       "      <td>4</td>\n",
       "      <td>Dozens dead from Tropical Storm Ana in souther...</td>\n",
       "      <td>The death toll from a storm that struck three ...</td>\n",
       "      <td>27 Jan 2022</td>\n",
       "    </tr>\n",
       "    <tr>\n",
       "      <td>5</td>\n",
       "      <td>Southern Africa bloc SADC extends Mozambique m...</td>\n",
       "      <td>Southern African regional bloc SADC at a summi...</td>\n",
       "      <td>12 Jan 2022</td>\n",
       "    </tr>\n",
       "    <tr>\n",
       "      <td>6</td>\n",
       "      <td>In Mozambique, Kagame says Rwandan troops’ wor...</td>\n",
       "      <td>Rwandan President Paul Kagame has arrived in M...</td>\n",
       "      <td>24 Sep 2021</td>\n",
       "    </tr>\n",
       "    <tr>\n",
       "      <td>7</td>\n",
       "      <td>Rwanda, Mozambique forces recapture port city ...</td>\n",
       "      <td>Rwandan forces deployed last month to help Moz...</td>\n",
       "      <td>8 Aug 2021</td>\n",
       "    </tr>\n",
       "    <tr>\n",
       "      <td>8</td>\n",
       "      <td>Rwanda deploys 1,000 soldiers to Mozambique’s ...</td>\n",
       "      <td>Rwanda has started deploying 1,000-strong forc...</td>\n",
       "      <td>10 Jul 2021</td>\n",
       "    </tr>\n",
       "    <tr>\n",
       "      <td>9</td>\n",
       "      <td>Southern African nations agree to deploy force...</td>\n",
       "      <td>The Southern African Development Community (SA...</td>\n",
       "      <td>23 Jun 2021</td>\n",
       "    </tr>\n",
       "  </tbody>\n",
       "</table>\n",
       "</div>"
      ],
      "text/plain": [
       "                                               title  \\\n",
       "0  Floods hit South Africa’s KwaZulu-Natal provin...   \n",
       "1   Mozambique: Cyclone Gombe death toll rises to 53   \n",
       "2  Mozambique announces new prime minister after ...   \n",
       "3  Analysis: Can African gas replace Russian supp...   \n",
       "4  Dozens dead from Tropical Storm Ana in souther...   \n",
       "5  Southern Africa bloc SADC extends Mozambique m...   \n",
       "6  In Mozambique, Kagame says Rwandan troops’ wor...   \n",
       "7  Rwanda, Mozambique forces recapture port city ...   \n",
       "8  Rwanda deploys 1,000 soldiers to Mozambique’s ...   \n",
       "9  Southern African nations agree to deploy force...   \n",
       "\n",
       "                                             content         time  \n",
       "0  Heavy rains in South Africa have forced hundre...  23 May 2022  \n",
       "1  Tropical Cyclone Gombe has killed at least 53 ...  18 Mar 2022  \n",
       "2  Mozambique President Filipe Nyusi has appointe...   4 Mar 2022  \n",
       "3  Lagos, Nigeria – On February 22, German Chance...   1 Mar 2022  \n",
       "4  The death toll from a storm that struck three ...  27 Jan 2022  \n",
       "5  Southern African regional bloc SADC at a summi...  12 Jan 2022  \n",
       "6  Rwandan President Paul Kagame has arrived in M...  24 Sep 2021  \n",
       "7  Rwandan forces deployed last month to help Moz...   8 Aug 2021  \n",
       "8  Rwanda has started deploying 1,000-strong forc...  10 Jul 2021  \n",
       "9  The Southern African Development Community (SA...  23 Jun 2021  "
      ]
     },
     "execution_count": 12,
     "metadata": {},
     "output_type": "execute_result"
    }
   ],
   "source": [
    "news"
   ]
  },
  {
   "cell_type": "markdown",
   "metadata": {},
   "source": [
    "## pre-process"
   ]
  },
  {
   "cell_type": "markdown",
   "metadata": {},
   "source": [
    "the scraped text data are clean already(without images and dates etc), so in this step some nlp pre-process cleaning is performed: remove punctuations and lower the texts."
   ]
  },
  {
   "cell_type": "code",
   "execution_count": 13,
   "metadata": {},
   "outputs": [],
   "source": [
    "news[\"text\"] = news[\"title\"]+\" \"+news[\"content\"]"
   ]
  },
  {
   "cell_type": "code",
   "execution_count": 14,
   "metadata": {},
   "outputs": [],
   "source": [
    "def clean(text):\n",
    "    text = text.lower()\n",
    "    text = text.split()\n",
    "    text = [t for t in text if t not in string.punctuation]\n",
    "    return \" \".join(text)\n",
    "news[\"text\"] = news[\"text\"].apply(clean)"
   ]
  },
  {
   "cell_type": "markdown",
   "metadata": {},
   "source": [
    "## sentiment analysis"
   ]
  },
  {
   "cell_type": "code",
   "execution_count": null,
   "metadata": {},
   "outputs": [],
   "source": [
    "news['sentiment'] = news['text'].apply(lambda x: TextBlob(x).sentiment)\n",
    "news['sentiment'] = news['sentiment'].apply(lambda x: x[0])"
   ]
  },
  {
   "cell_type": "code",
   "execution_count": 18,
   "metadata": {},
   "outputs": [
    {
     "name": "stdout",
     "output_type": "stream",
     "text": [
      "--- operation time: 20.32680106163025 seconds ---\n"
     ]
    }
   ],
   "source": [
    "print(\"--- operation time: %s seconds ---\" % (time.time() - start_time))"
   ]
  },
  {
   "cell_type": "markdown",
   "metadata": {},
   "source": [
    "## plot"
   ]
  },
  {
   "cell_type": "code",
   "execution_count": null,
   "metadata": {},
   "outputs": [],
   "source": [
    "fig = px.line( news, x = 'time' ,\n",
    "              y = 'sentiment',\n",
    "              title = 'sentiment changes for the 10 most recent news')\n",
    "fig.show()"
   ]
  }
 ],
 "metadata": {
  "kernelspec": {
   "display_name": "Python 3",
   "language": "python",
   "name": "python3"
  },
  "language_info": {
   "codemirror_mode": {
    "name": "ipython",
    "version": 3
   },
   "file_extension": ".py",
   "mimetype": "text/x-python",
   "name": "python",
   "nbconvert_exporter": "python",
   "pygments_lexer": "ipython3",
   "version": "3.7.4"
  }
 },
 "nbformat": 4,
 "nbformat_minor": 2
}
